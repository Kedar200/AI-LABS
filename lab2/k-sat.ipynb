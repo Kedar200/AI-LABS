{
 "cells": [
  {
   "cell_type": "code",
   "execution_count": 1,
   "metadata": {},
   "outputs": [
    {
     "name": "stdout",
     "output_type": "stream",
     "text": [
      "Generated k-SAT problem:\n",
      "[1, -3, 4, -6, -1]\n",
      "[6, -4, -1, -2, 3]\n",
      "[3, -2, -3, 2, -6]\n",
      "[6, 4, 1, -5, -6]\n",
      "[-5, 3, 5, -2, 4]\n"
     ]
    }
   ],
   "source": [
    "import random\n",
    "\n",
    "def generate_clause(k, n):\n",
    "    # Generate a random clause of length k\n",
    "    clause = []\n",
    "    while len(clause) < k:\n",
    "        variable = random.randint(1, n)\n",
    "        # Randomly decide whether to negate the variable\n",
    "        if random.choice([True, False]):\n",
    "            variable = -variable\n",
    "        if variable not in clause:\n",
    "            clause.append(variable)\n",
    "    return clause\n",
    "\n",
    "def generate_k_sat(k, m, n):\n",
    "    # Generate m clauses of length k\n",
    "    sat_problem = []\n",
    "    for _ in range(m):\n",
    "        clause = generate_clause(k, n)\n",
    "        sat_problem.append(clause)\n",
    "    return sat_problem\n",
    "\n",
    "def main():\n",
    "    k = int(input(\"Enter the value of k: \"))\n",
    "    m = int(input(\"Enter the number of clauses (m): \"))\n",
    "    n = int(input(\"Enter the number of variables (n): \"))\n",
    "    \n",
    "    k_sat_problem = generate_k_sat(k, m, n)\n",
    "    print(\"Generated k-SAT problem:\")\n",
    "    for clause in k_sat_problem:\n",
    "        print(clause)\n",
    "\n",
    "if __name__ == \"__main__\":\n",
    "    main()\n"
   ]
  },
  {
   "cell_type": "code",
   "execution_count": 3,
   "metadata": {},
   "outputs": [
    {
     "name": "stdout",
     "output_type": "stream",
     "text": [
      "['a', 'b', 'c', 'd', 'e', 'A', 'B', 'C', 'D', 'E']\n",
      "[['a', 'e', 'D'], ['c', 'C', 'D'], ['c', 'd', 'C']]\n",
      "[['b', 'D', 'E'], ['b', 'B', 'D'], ['c', 'e', 'C']]\n",
      "[['c', 'd', 'D'], ['a', 'e', 'E'], ['b', 'A', 'D']]\n",
      "[['e', 'A', 'E'], ['e', 'C', 'E'], ['b', 'e', 'A']]\n",
      "[['b', 'd', 'D'], ['A', 'B', 'D'], ['c', 'A', 'D']]\n",
      "[['c', 'e', 'C'], ['a', 'd', 'e'], ['b', 'D', 'E']]\n",
      "[['c', 'e', 'A'], ['d', 'e', 'D'], ['b', 'C', 'E']]\n",
      "[['A', 'B', 'E'], ['a', 'd', 'C'], ['c', 'B', 'C']]\n",
      "[['b', 'e', 'A'], ['a', 'b', 'c'], ['c', 'd', 'e']]\n",
      "[['e', 'C', 'E'], ['a', 'b', 'A'], ['b', 'd', 'B']]\n"
     ]
    }
   ],
   "source": [
    "from string import ascii_lowercase\n",
    "import random\n",
    "from itertools import combinations\n",
    "import numpy as np\n",
    "\n",
    "def create_problem(n, k, m):\n",
    "    positive_var = list(ascii_lowercase)[:n]\n",
    "    negative_var = [var.upper() for var in positive_var]\n",
    "    variables = positive_var + negative_var\n",
    "    problem = []\n",
    "    threshold = 10\n",
    "    i = 0\n",
    "    comb = list(combinations(variables, k))\n",
    "    while i < threshold:\n",
    "        c = random.sample(comb, m)\n",
    "        if c not in problem:\n",
    "            problem.append(c)\n",
    "            i += 1\n",
    "    problems_new = []\n",
    "    for c in problem:\n",
    "        temp = []\n",
    "        temp = [list(sub) for sub in c]\n",
    "        problems_new.append(temp)\n",
    "    return variables, problems_new\n",
    "\n",
    "def random_assign(variables, n):\n",
    "    litral = list(np.random.choice(2, n))\n",
    "    negation = [abs(i - 1) for i in litral]\n",
    "    assign = litral + negation\n",
    "    return dict(zip(variables, assign))\n",
    "\n",
    "\n",
    "n = 5\n",
    "k = 3\n",
    "m = 3\n",
    "var, prob = create_problem(n, k, m)\n",
    "print(var)\n",
    "for i in prob:\n",
    "    print(i)\n"
   ]
  },
  {
   "cell_type": "code",
   "execution_count": null,
   "metadata": {},
   "outputs": [],
   "source": []
  }
 ],
 "metadata": {
  "kernelspec": {
   "display_name": "Python 3",
   "language": "python",
   "name": "python3"
  },
  "language_info": {
   "codemirror_mode": {
    "name": "ipython",
    "version": 3
   },
   "file_extension": ".py",
   "mimetype": "text/x-python",
   "name": "python",
   "nbconvert_exporter": "python",
   "pygments_lexer": "ipython3",
   "version": "3.11.5"
  }
 },
 "nbformat": 4,
 "nbformat_minor": 2
}
